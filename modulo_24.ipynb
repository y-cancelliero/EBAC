{
 "nbformat": 4,
 "nbformat_minor": 0,
 "metadata": {
  "colab": {
   "provenance": []
  },
  "kernelspec": {
   "name": "python3",
   "display_name": "Python 3 (ipykernel)",
   "language": "python"
  },
  "language_info": {
   "name": "python"
  }
 },
 "cells": [
  {
   "cell_type": "markdown",
   "source": [
    "# **MÓDULO 24 - Bancos de Dados + SQL**"
   ],
   "metadata": {
    "id": "4T5dCtwYXFS0"
   }
  },
  {
   "cell_type": "markdown",
   "source": [
    "Para nossa atividade inicial de SQL trabalharemos com uma base de vendas.\n",
    "Abaixo temos o ambiente de preparo para trabalharmos com o SQL lite."
   ],
   "metadata": {
    "id": "tGub_MhcXTfu"
   }
  },
  {
   "cell_type": "code",
   "metadata": {
    "id": "eQtWi0CfXCPn",
    "ExecuteTime": {
     "end_time": "2025-10-29T20:22:56.807707Z",
     "start_time": "2025-10-29T20:22:56.802700Z"
    }
   },
   "source": [
    "import sqlite3 #Importando a biblioteca necessária\n",
    "import pandas as pd"
   ],
   "outputs": [],
   "execution_count": 1
  },
  {
   "cell_type": "code",
   "source": "df_vendas = pd.read_csv(\"C:/Users/yurid/Downloads/TB_VENDAS_TAREFA.csv\", delimiter=';')",
   "metadata": {
    "id": "yKsW2EEpXQTK",
    "ExecuteTime": {
     "end_time": "2025-10-29T20:23:00.382811Z",
     "start_time": "2025-10-29T20:23:00.315114Z"
    }
   },
   "outputs": [],
   "execution_count": 2
  },
  {
   "cell_type": "code",
   "source": [
    "conn = sqlite3.connect(':memory:')\n",
    "df_vendas.to_sql('tb_vendas', conn, index=False, if_exists='replace')"
   ],
   "metadata": {
    "colab": {
     "base_uri": "https://localhost:8080/"
    },
    "id": "vbdvMKZgXtT5",
    "outputId": "4ce7afac-73b7-4ff8-b010-2021cc410f6f",
    "ExecuteTime": {
     "end_time": "2025-10-29T20:23:06.459175Z",
     "start_time": "2025-10-29T20:23:06.429556Z"
    }
   },
   "outputs": [
    {
     "data": {
      "text/plain": [
       "24"
      ]
     },
     "execution_count": 3,
     "metadata": {},
     "output_type": "execute_result"
    }
   ],
   "execution_count": 3
  },
  {
   "cell_type": "code",
   "source": [
    "def run_query(query):\n",
    "    return pd.read_sql_query(query, conn)"
   ],
   "metadata": {
    "id": "Z3-elg3aXuiM",
    "ExecuteTime": {
     "end_time": "2025-10-29T20:23:54.372456Z",
     "start_time": "2025-10-29T20:23:54.363078Z"
    }
   },
   "outputs": [],
   "execution_count": 6
  },
  {
   "cell_type": "markdown",
   "source": [
    "# 1) Faça uma consulta que retorne todos os dados da nossa tabela de vendas, com todas linhas e todas colunas.\n"
   ],
   "metadata": {
    "id": "Z_EFXuNLXz7m"
   }
  },
  {
   "cell_type": "code",
   "source": [
    "query = 'SELECT * FROM tb_vendas'\n",
    "result_df = run_query(query)\n",
    "print(result_df)"
   ],
   "metadata": {
    "id": "XQr_MBvmb4yC",
    "ExecuteTime": {
     "end_time": "2025-10-29T20:24:08.655964Z",
     "start_time": "2025-10-29T20:24:08.630675Z"
    }
   },
   "outputs": [
    {
     "name": "stdout",
     "output_type": "stream",
     "text": [
      "    ID_COMPRA  ID_CLIENTE   PRODUTO VALOR_UNID  UNIDADES\n",
      "0        1247        9081  CAMISETA       34,5         2\n",
      "1        1248        9081     CALCA       89,9         1\n",
      "2        1250        9560  CAMISETA       34,5         1\n",
      "3        1249        9630   BERMUDA       79,5         2\n",
      "4        1251        9425  CAMISETA       34,5         3\n",
      "5        1252        9425   VESTIDO        102         1\n",
      "6        1253        9481     CALCA       89,9         2\n",
      "7        1254        9785      MEIA       25,9         1\n",
      "8        1255        9786     CALCA       89,9         2\n",
      "9        1256        9787   VESTIDO        102         1\n",
      "10       1257        9788     CALCA       89,9         2\n",
      "11       1258        9789  CAMISETA       34,5         3\n",
      "12       1259        9790  CAMISETA       34,5         1\n",
      "13       1260        9791   BERMUDA       79,5         2\n",
      "14       1261        9792  CAMISETA       34,5         2\n",
      "15       1262        9793     CALCA       89,9         2\n",
      "16       1263        9794     CALCA       89,9         1\n",
      "17       1264        9795   BERMUDA       79,5         2\n",
      "18       1265        9796  CAMISETA       34,5         4\n",
      "19       1266        9797  CAMISETA       34,5         1\n",
      "20       1267        9798   VESTIDO        102         2\n",
      "21       1268        9799      MEIA       25,9         3\n",
      "22       1269        9800  CAMISETA       34,5         2\n",
      "23       1270        9801     CALCA       89,9         1\n"
     ]
    }
   ],
   "execution_count": 8
  },
  {
   "cell_type": "markdown",
   "source": [
    "# 2) Faça uma consulta que retorne apenas 10 linhas da coluna produto.\n"
   ],
   "metadata": {
    "id": "nyhYEkRLYMNY"
   }
  },
  {
   "cell_type": "code",
   "source": [
    "query = \"SELECT PRODUTO FROM tb_vendas LIMIT 10\"\n",
    "result_df = run_query(query)\n",
    "print(result_df)"
   ],
   "metadata": {
    "id": "LfKnVQUCYLxE",
    "ExecuteTime": {
     "end_time": "2025-10-29T20:24:42.106261Z",
     "start_time": "2025-10-29T20:24:42.071367Z"
    }
   },
   "outputs": [
    {
     "name": "stdout",
     "output_type": "stream",
     "text": [
      "    PRODUTO\n",
      "0  CAMISETA\n",
      "1     CALCA\n",
      "2  CAMISETA\n",
      "3   BERMUDA\n",
      "4  CAMISETA\n",
      "5   VESTIDO\n",
      "6     CALCA\n",
      "7      MEIA\n",
      "8     CALCA\n",
      "9   VESTIDO\n"
     ]
    }
   ],
   "execution_count": 9
  },
  {
   "cell_type": "markdown",
   "source": [
    "# 3) Faça uma consulta que retorne a média do valor por unidade e também das unidades vendidas. Não se esqueça de renomear o nome das colunas ao cria-las."
   ],
   "metadata": {
    "id": "-hqcrP6CYiGF"
   }
  },
  {
   "cell_type": "code",
   "source": [
    "query = \"SELECT AVG(VALOR_UNID) AS MEDIA_VALOR, SUM(UNIDADES) AS SUM_UNID FROM tb_vendas\"\n",
    "result_df = run_query(query)\n",
    "print(result_df)"
   ],
   "metadata": {
    "id": "v1aJMTkMYhm4",
    "ExecuteTime": {
     "end_time": "2025-10-29T20:28:24.540302Z",
     "start_time": "2025-10-29T20:28:24.517677Z"
    }
   },
   "outputs": [
    {
     "name": "stdout",
     "output_type": "stream",
     "text": [
      "   MEDIA_VALOR  SUM_UNID\n",
      "0    63.416667        44\n"
     ]
    }
   ],
   "execution_count": 12
  },
  {
   "cell_type": "markdown",
   "source": [
    "# 4) Note que na nossa tabela não temos o total de valor gasto por compra, temos o valor do produto e a quantidade vendida, para termos o valor total precisamos multiplicar essas duas colunas e para multiplicar colunas usamos o *.\n",
    "# Faça uma consulta que retorne a coluna ID_COMPRA, ID_CLIENTE e o valor total gasto.\n",
    "\n",
    "Ex: SELECT TICKET_MEDIO*UNIDADE FROM TB_EXEMPLO"
   ],
   "metadata": {
    "id": "UJUIsVjAY8Jz"
   }
  },
  {
   "cell_type": "code",
   "source": [
    "query = \"SELECT ID_COMPRA, ID_CLIENTE, CAST(VALOR_UNID*UNIDADES AS FLOAT) AS TOTAL_GASTO FROM tb_vendas\"\n",
    "result_df = run_query(query)\n",
    "print(result_df)"
   ],
   "metadata": {
    "id": "rNQfkp6RY7qa",
    "ExecuteTime": {
     "end_time": "2025-10-29T20:31:03.341538Z",
     "start_time": "2025-10-29T20:31:03.323725Z"
    }
   },
   "outputs": [
    {
     "name": "stdout",
     "output_type": "stream",
     "text": [
      "    ID_COMPRA  ID_CLIENTE  TOTAL_GASTO\n",
      "0        1247        9081         68.0\n",
      "1        1248        9081         89.0\n",
      "2        1250        9560         34.0\n",
      "3        1249        9630        158.0\n",
      "4        1251        9425        102.0\n",
      "5        1252        9425        102.0\n",
      "6        1253        9481        178.0\n",
      "7        1254        9785         25.0\n",
      "8        1255        9786        178.0\n",
      "9        1256        9787        102.0\n",
      "10       1257        9788        178.0\n",
      "11       1258        9789        102.0\n",
      "12       1259        9790         34.0\n",
      "13       1260        9791        158.0\n",
      "14       1261        9792         68.0\n",
      "15       1262        9793        178.0\n",
      "16       1263        9794         89.0\n",
      "17       1264        9795        158.0\n",
      "18       1265        9796        136.0\n",
      "19       1266        9797         34.0\n",
      "20       1267        9798        204.0\n",
      "21       1268        9799         75.0\n",
      "22       1269        9800         68.0\n",
      "23       1270        9801         89.0\n"
     ]
    }
   ],
   "execution_count": 16
  },
  {
   "cell_type": "markdown",
   "source": [
    "# 5) [DESAFIO] Faça uma consulta que traz a média do valor total gasto que foi calculado no exercício anterior. Note que não queremos a média por pedido e sim a média total, apenas essa informação deve vir na consulta."
   ],
   "metadata": {
    "id": "tuTDx7W3Zxlp"
   }
  },
  {
   "cell_type": "code",
   "source": [
    "query = \"SELECT AVG(CAST(VALOR_UNID*UNIDADES AS FLOAT)) AS MED_TOT_GASTO FROM tb_vendas \"\n",
    "result_df = run_query(query)\n",
    "# Exibir o resultado\n",
    "print(result_df)"
   ],
   "metadata": {
    "id": "UPUskwJoaEgy",
    "ExecuteTime": {
     "end_time": "2025-10-29T20:33:30.001590Z",
     "start_time": "2025-10-29T20:33:29.983593Z"
    }
   },
   "outputs": [
    {
     "name": "stdout",
     "output_type": "stream",
     "text": [
      "   MED_TOT_GASTO\n",
      "0        108.625\n"
     ]
    }
   ],
   "execution_count": 17
  },
  {
   "cell_type": "markdown",
   "source": [
    "# 6) Diferencie com suas palavras, considerando o repertório que tem criado da área de dados, a utilizadade do SQL e do Python para ciência de dados.\n",
    "No campo da ciência de dados, utilizamos o SQL para conversar diretamente com o banco de dados, de forma que trabalhamos com extração, filtragem agregação e junção de informações. Por outro lado, usamos Python para análise, experimentação e modelagem 'fora' do banco de dados, aplicando técnicas técnicas de machine learning e estatítica, mas sem interferir diretmente no conteúdo dele.\n"
   ],
   "metadata": {
    "id": "0ezDHHigaONG"
   }
  },
  {
   "cell_type": "markdown",
   "source": [
    "# 7) Diferencie com suas palavras banco de dados relacionais de não relacionais.\n",
    "Bancos de dados relacionais (SQL) estruturam dados em tabelas com esquemas fixos (linhas e colunas), garantindo alta consistência e sendo ideais para dados transacionais (ex: sistemas financeiros). Bancos não relacionais (NoSQL) usam modelos flexíveis (como documentos JSON, chave-valor ou grafos) para dados semi ou não estruturados, focando em escalabilidade e velocidade. Resumindo, SQL prioriza a consistência e estrutura rígida, enquanto NoSQL prioriza a flexibilidade e o volume.\n"
   ],
   "metadata": {
    "id": "F1xh_-UPaZU2"
   }
  },
  {
   "cell_type": "markdown",
   "source": [
    "# 8) Queremos saber da sua opinião, acredita que o SQL pode ser mais prático que o Python para consultas rápidas? Justifique.\n",
    "Muitas vezes durante a carreia você terá que escolher qual linguagem utilizar para cada momento afim de entregar o que é solicitado o mais rápido e com qualidade possível, exercite sua argumentação = )\n",
    "\n",
    "SQL é mais prático que Python na medida que opera no servidor do banco de dados e envia somente a informação solicitada. Por sua vez, o Python roda localmente, de modo que é necessário ter todo o conjunto de dados na máquina. Dessa forma, operar com SQL é mais prático pois possibilita a filtragem dos dados e economia dos recursos da máquina para direcioná-los da melhor maneira para as etapas de análise com Python.\n",
    "\n",
    "\n"
   ],
   "metadata": {
    "id": "GkKpxl52atNQ"
   }
  }
 ]
}
