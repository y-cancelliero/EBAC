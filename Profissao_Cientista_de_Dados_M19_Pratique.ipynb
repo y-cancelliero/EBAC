{
 "cells": [
  {
   "cell_type": "markdown",
   "metadata": {
    "id": "3Um_onCPZEf0"
   },
   "source": [
    "# **MÓDULO 19**\n",
    "# Exercício: Estatística Aplicada"
   ]
  },
  {
   "cell_type": "markdown",
   "metadata": {
    "id": "1m0YhZXwZL1q"
   },
   "source": [
    "**Efetividade de Duas Estratégias de Ensino**\n",
    "\n",
    "Imagine que uma escola esteja avaliando a eficácia de duas estratégias de ensino de matemática para alunos do ensino médio. Eles querem determinar se há uma diferença significativa no desempenho médio dos alunos entre as duas estratégias."
   ]
  },
  {
   "cell_type": "markdown",
   "metadata": {
    "id": "lYK3r7d8ZdUy"
   },
   "source": [
    "# **Hipóteses:**\n",
    "\n",
    "* Hipótese nula (H0): A média das notas dos alunos na estratégia A é igual à média das notas dos alunos na estratégia B.\n",
    "* Hipótese alternativa (H1): A média das notas na Estratégia B é maior do que a média das notas na Estratégia A."
   ]
  },
  {
   "cell_type": "markdown",
   "metadata": {
    "id": "aIXDvxeRZtuK"
   },
   "source": [
    "# **Dados:**\n",
    "\n",
    "* Amostra da Estratégia A: Notas de 50 alunos que receberam a Estratégia A.\n",
    "* Amostra da Estratégia B: Notas de 50 alunos que receberam a Estratégia B."
   ]
  },
  {
   "cell_type": "markdown",
   "metadata": {
    "id": "Awvgd4oAZ3Y7"
   },
   "source": [
    "Usaremos um teste Z para comparar as médias das notas entre as duas amostras."
   ]
  },
  {
   "cell_type": "markdown",
   "metadata": {
    "id": "qyJViOFDZ8Y_"
   },
   "source": [
    "Se o p-valor do teste Z for menor que um nível de significância pré-determinado (por exemplo, α = 0.05), rejeitamos a hipótese nula e concluímos que há uma diferença significativa nas médias das notas entre as duas estratégias de ensino."
   ]
  },
  {
   "cell_type": "code",
   "metadata": {
    "id": "UW8wHoiGY9sb",
    "ExecuteTime": {
     "end_time": "2025-10-24T01:16:39.285897Z",
     "start_time": "2025-10-24T01:16:39.276292Z"
    }
   },
   "source": [
    "import numpy as np\n",
    "import pandas as pd\n",
    "import plotly.express as px\n",
    "import plotly.graph_objects as go\n",
    "from scipy import stats\n"
   ],
   "outputs": [],
   "execution_count": 32
  },
  {
   "cell_type": "markdown",
   "metadata": {
    "id": "D6tUtiABaDWI"
   },
   "source": [
    "Os dados são criados a seguir:"
   ]
  },
  {
   "cell_type": "code",
   "metadata": {
    "id": "F9LLw8rsaFIS",
    "outputId": "e9f9af36-9817-4398-8fcd-fba14f32f1cf",
    "ExecuteTime": {
     "end_time": "2025-10-24T01:16:39.307156Z",
     "start_time": "2025-10-24T01:16:39.299284Z"
    }
   },
   "source": [
    "# Definindo médias e desvios padrão para as notas nas duas estratégias\n",
    "media_estrategia_A = 70\n",
    "desvio_padrao_estrategia_A = 10\n",
    "\n",
    "media_estrategia_B = 75\n",
    "desvio_padrao_estrategia_B = 12\n",
    "\n",
    "# Gerando as amostras de notas para cada estratégia de ensino da nossa base\n",
    "np.random.seed(0)  # Para garantir a reprodutibilidade dos resultados\n",
    "amostra_estrategia_A = np.random.normal(loc=media_estrategia_A, scale=desvio_padrao_estrategia_A, size=50)\n",
    "amostra_estrategia_B = np.random.normal(loc=media_estrategia_B, scale=desvio_padrao_estrategia_B, size=50)\n",
    "\n",
    "print(\"Notas da Estratégia A:\", amostra_estrategia_A[:5])\n",
    "print(\"Notas da Estratégia B:\", amostra_estrategia_B[:5])"
   ],
   "outputs": [
    {
     "name": "stdout",
     "output_type": "stream",
     "text": [
      "Notas da Estratégia A: [87.64052346 74.00157208 79.78737984 92.40893199 88.6755799 ]\n",
      "Notas da Estratégia B: [64.25440127 79.64282997 68.87033835 60.83241379 74.66181326]\n"
     ]
    }
   ],
   "execution_count": 33
  },
  {
   "cell_type": "markdown",
   "metadata": {
    "id": "KGpDI3hKaUN8"
   },
   "source": [
    "# 1) De acordo com as informações analisadas o nosso teste é unilateral á direita, esquerda ou bicaudal? Justifique.\n",
    "\n",
    "\n"
   ]
  },
  {
   "metadata": {},
   "cell_type": "markdown",
   "source": "Unicaudal à direita, já que buscamos determinar se a amostra B é maior que a amostra A."
  },
  {
   "cell_type": "markdown",
   "metadata": {
    "id": "xZ5V8EwfbZES"
   },
   "source": [
    "# 2) Calcule as médias para as duas amostragens e as variâncias. Quais insights você pode retirar comparando os dados?"
   ]
  },
  {
   "cell_type": "code",
   "metadata": {
    "id": "vwCW7UXkbl-d",
    "ExecuteTime": {
     "end_time": "2025-10-24T01:16:39.330047Z",
     "start_time": "2025-10-24T01:16:39.315855Z"
    }
   },
   "source": [
    "med_amostra_A = np.mean(amostra_estrategia_A)\n",
    "med_amostra_B = np.mean(amostra_estrategia_B)\n",
    "var_amostra_A = np.var(amostra_estrategia_A)\n",
    "var_amostra_B = np.var(amostra_estrategia_B)\n",
    "\n",
    "stat = pd.DataFrame({'Estratégia': ['A', 'B'],\n",
    "                     'Média Populacional': [media_estrategia_A, media_estrategia_B],\n",
    "                    'Média Amostral': [med_amostra_A, med_amostra_B],\n",
    "                       'Variância Populacional':[desvio_padrao_estrategia_A**2, desvio_padrao_estrategia_B**2],\n",
    "                     'Variância Amostral': [var_amostra_A, var_amostra_B]})\n",
    "stat"
   ],
   "outputs": [
    {
     "data": {
      "text/plain": [
       "  Estratégia  Média Populacional  Média Amostral  Variância Populacional  \\\n",
       "0          A                  70       71.405593                     100   \n",
       "1          B                  75       74.748681                     144   \n",
       "\n",
       "   Variância Amostral  \n",
       "0          126.680184  \n",
       "1          108.260620  "
      ],
      "text/html": [
       "<div>\n",
       "<style scoped>\n",
       "    .dataframe tbody tr th:only-of-type {\n",
       "        vertical-align: middle;\n",
       "    }\n",
       "\n",
       "    .dataframe tbody tr th {\n",
       "        vertical-align: top;\n",
       "    }\n",
       "\n",
       "    .dataframe thead th {\n",
       "        text-align: right;\n",
       "    }\n",
       "</style>\n",
       "<table border=\"1\" class=\"dataframe\">\n",
       "  <thead>\n",
       "    <tr style=\"text-align: right;\">\n",
       "      <th></th>\n",
       "      <th>Estratégia</th>\n",
       "      <th>Média Populacional</th>\n",
       "      <th>Média Amostral</th>\n",
       "      <th>Variância Populacional</th>\n",
       "      <th>Variância Amostral</th>\n",
       "    </tr>\n",
       "  </thead>\n",
       "  <tbody>\n",
       "    <tr>\n",
       "      <th>0</th>\n",
       "      <td>A</td>\n",
       "      <td>70</td>\n",
       "      <td>71.405593</td>\n",
       "      <td>100</td>\n",
       "      <td>126.680184</td>\n",
       "    </tr>\n",
       "    <tr>\n",
       "      <th>1</th>\n",
       "      <td>B</td>\n",
       "      <td>75</td>\n",
       "      <td>74.748681</td>\n",
       "      <td>144</td>\n",
       "      <td>108.260620</td>\n",
       "    </tr>\n",
       "  </tbody>\n",
       "</table>\n",
       "</div>"
      ]
     },
     "execution_count": 34,
     "metadata": {},
     "output_type": "execute_result"
    }
   ],
   "execution_count": 34
  },
  {
   "metadata": {},
   "cell_type": "markdown",
   "source": "Conforme a tabela acima, vemos diferenças entre as médias e variâncias amostral e populacional. Todavia, não é possível inferir se as diferenças são realmente significativas antes de um teste de hipótese."
  },
  {
   "cell_type": "markdown",
   "metadata": {
    "id": "8_skpl7RcAE5"
   },
   "source": [
    "# 3) Imprima os resultados da estatística do teste Z, p value e indique se rejeitaremos ou não a hipótese nula. Justifique sua resposta."
   ]
  },
  {
   "cell_type": "code",
   "metadata": {
    "id": "n88wuGCjcNCq",
    "ExecuteTime": {
     "end_time": "2025-10-24T01:16:39.353824Z",
     "start_time": "2025-10-24T01:16:39.347526Z"
    }
   },
   "source": [
    "n = len(amostra_estrategia_A)\n",
    "\n",
    "z= (med_amostra_B - med_amostra_A)/(((var_amostra_B +var_amostra_A)/n)**0.5)\n",
    "\n",
    "p_value = 2*(1-stats.norm.cdf(abs(z)))\n",
    "\n",
    "print('Valor do teste Z:', z)\n",
    "print('p_value', p_value)\n",
    "\n",
    "sig = 0.05\n",
    "if p_value < sig:\n",
    "    print('Rejeitamos a hipótese nula e há diferença estatística significativa entre as amostras')\n",
    "else:\n",
    "    print('Aceitamos a hipótese nula e não há diferença estatística significativa entre as amostras')"
   ],
   "outputs": [
    {
     "name": "stdout",
     "output_type": "stream",
     "text": [
      "Valor do teste Z: 1.542245935902539\n",
      "p_value 0.12301384127809167\n",
      "Aceitamos a hipótese nula e não há diferença estatística significativa entre as amostras\n"
     ]
    }
   ],
   "execution_count": 35
  },
  {
   "cell_type": "markdown",
   "metadata": {
    "id": "IDR8T-bQc3i2"
   },
   "source": [
    "# 4) Para finalizar monte o gráfico da distribuição da estatística do nosso teste Z e explique o que pode ser observado através dele."
   ]
  },
  {
   "cell_type": "code",
   "metadata": {
    "id": "My8VY4QmdEWc",
    "ExecuteTime": {
     "end_time": "2025-10-24T01:16:40.943439Z",
     "start_time": "2025-10-24T01:16:39.367451Z"
    }
   },
   "source": [
    "x = np.linspace(-4,4,1000)\n",
    "y = stats.norm.pdf(x,0,1)\n",
    "y_z = [0, stats.norm.pdf(z, 0,1)]\n",
    "reg_crit = stats.norm.ppf(0.975)\n",
    "\n",
    "x_r = x[x >= reg_crit]\n",
    "y_r = y[x >= reg_crit]\n",
    "\n",
    "\n",
    "fig = go.Figure()\n",
    "\n",
    "fig.add_traces(go.Scatter(x=x,\n",
    "                          y=y,\n",
    "                          name = 'Distribuição Normal Padrão',\n",
    "                          marker_color = 'purple'))\n",
    "\n",
    "fig.add_traces(go.Scatter(x=[z, z],\n",
    "                          y = y_z,\n",
    "                          name = 'Valor do teste estatístico',\n",
    "                          marker_color = 'orchid'))\n",
    "\n",
    "\n",
    "\n",
    "fig.add_traces(go.Scatter(x=x_r,\n",
    "                          y= y_r,\n",
    "                          name = 'Área crítica',\n",
    "                          fill = 'tozeroy',\n",
    "                          marker_color = 'royalblue',\n",
    "                          mode= None\n",
    "                          ))\n",
    "\n",
    "fig.update_layout(title_text = 'Distribuição estatística')\n",
    "fig.show()\n"
   ],
   "outputs": [],
   "execution_count": 36
  },
  {
   "metadata": {},
   "cell_type": "markdown",
   "source": "Da distribuição acima, vemos que o resultado da estatística Z calculada está fora da área crítica de significância. Nesse sentido, aceitamos a hipótese nula de que não há diferença estatística significativa entre as estratégias de ensino A e B."
  }
 ],
 "metadata": {
  "colab": {
   "provenance": []
  },
  "kernelspec": {
   "display_name": "Python 3 (ipykernel)",
   "language": "python",
   "name": "python3"
  },
  "language_info": {
   "codemirror_mode": {
    "name": "ipython",
    "version": 3
   },
   "file_extension": ".py",
   "mimetype": "text/x-python",
   "name": "python",
   "nbconvert_exporter": "python",
   "pygments_lexer": "ipython3",
   "version": "3.11.7"
  }
 },
 "nbformat": 4,
 "nbformat_minor": 0
}
