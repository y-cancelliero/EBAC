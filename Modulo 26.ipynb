{
 "nbformat": 4,
 "nbformat_minor": 0,
 "metadata": {
  "colab": {
   "provenance": []
  },
  "kernelspec": {
   "name": "python3",
   "display_name": "Python 3 (ipykernel)",
   "language": "python"
  },
  "language_info": {
   "name": "python"
  }
 },
 "cells": [
  {
   "cell_type": "markdown",
   "source": [
    "# **MÓDULO 26 - Projeto Final do Aprofundamento de Analytics**"
   ],
   "metadata": {
    "id": "2xcKXdd3WR17"
   }
  },
  {
   "cell_type": "markdown",
   "source": [
    "Bem-vindos ao Projeto de Dashboard de E-commerce! Este projeto é uma oportunidade para vocês aplicarem habilidades essenciais de análise de dados em um cenário prático e realista. Vocês irão trabalhar com um conjunto de dados de transações de clientes de uma loja virtual, distribuídos em duas tabelas distintas. O objetivo final é construir um dashboard interativo que facilite a visualização e análise das informações relevantes do e-commerce, utilizando ferramentas como Looker Studio ou Power BI."
   ],
   "metadata": {
    "id": "JawTVJK2W-9v"
   }
  },
  {
   "cell_type": "markdown",
   "source": [
    "**Objetivo do Projeto:**\n",
    "\n",
    "Tratamento de Dados: Realizar a junção (JOIN) de duas tabelas utilizando SQL para consolidar as informações.\n",
    "Análise de Dados: Exportar os dados resultantes para um arquivo CSV.\n",
    "Visualização de Dados: Desenvolver um dashboard interativo e informativo para visualização das principais métricas e insights do e-commerce."
   ],
   "metadata": {
    "id": "6_UQwlRYXJnG"
   }
  },
  {
   "cell_type": "markdown",
   "source": [
    "**Tabelas Disponibilizadas:**\n",
    "\n",
    "**Tabela de Transações:** Contém os registros de transações realizadas pelos clientes, incluindo detalhes como ID da transação, valor e outros.\n",
    "\n",
    "\n",
    "**Tabela de Dados Pessoais:** Contém as informações pessoais dos clientes, como ID do cliente, nome, genero, cidade, etc.\n",
    "\n",
    "**Chave de Ligação:** As tabelas se relacionam através da coluna ID_CLIENT, que é a chave identificadora dos clientes."
   ],
   "metadata": {
    "id": "70syl2pLXQ28"
   }
  },
  {
   "cell_type": "markdown",
   "source": [
    "# Etapas do Projeto:\n",
    "\n",
    "1. Realizar um JOIN SQL nas duas tabelas, unificando as informações através da coluna ID_CLIENT. Você deve justificar a escolha do JOIN (Inner/ Left/ Right ou Full).\n",
    "\n",
    "2. Exportar os dados consolidados resultantes do JOIN para um arquivo CSV.\n",
    "\n",
    "3. Utilizar Looker Studio ou Power BI para importar o arquivo CSV.\n",
    "\n",
    "4. Criar visualizações interativas que apresentem métricas importantes, como total de vendas, número de transações, distribuição geográfica dos clientes, perfil demográfico dos clientes, entre outros."
   ],
   "metadata": {
    "id": "xkLSMEBoXeYT"
   }
  },
  {
   "cell_type": "markdown",
   "source": [
    "Abaixo temos a configuração do ambiente SQL:"
   ],
   "metadata": {
    "id": "lRVU4Dl_X0V4"
   }
  },
  {
   "cell_type": "code",
   "metadata": {
    "id": "5_Mqh988V-Tf",
    "ExecuteTime": {
     "end_time": "2025-10-30T01:45:57.284791Z",
     "start_time": "2025-10-30T01:45:57.278207Z"
    }
   },
   "source": [
    "import sqlite3\n",
    "import pandas as pd\n",
    "import os\n",
    "os.chdir('C:/Users/yurid/Downloads/')"
   ],
   "outputs": [],
   "execution_count": 23
  },
  {
   "cell_type": "code",
   "source": [
    "df_transacoes = pd.read_csv(\"TB_TRANSACOES_PROJETO_ECOMM.csv\", delimiter=';')\n",
    "df_clientes = pd.read_csv(\"TB_CLIENTES_PROJETO_ECOMM.csv\", delimiter=';')\n",
    "\n",
    "print(df_transacoes.columns)\n",
    "print(df_clientes.columns)"
   ],
   "metadata": {
    "id": "JNEitpAKYJfJ",
    "ExecuteTime": {
     "end_time": "2025-10-30T01:45:57.320005Z",
     "start_time": "2025-10-30T01:45:57.306624Z"
    }
   },
   "outputs": [
    {
     "name": "stdout",
     "output_type": "stream",
     "text": [
      "Index(['id_client', 'Category', 'Price', 'Card Type'], dtype='object')\n",
      "Index(['state_name', 'First_name', 'Gender', 'Job_Title', 'Id_client'], dtype='object')\n"
     ]
    }
   ],
   "execution_count": 24
  },
  {
   "cell_type": "code",
   "source": [
    "conn = sqlite3.connect('projeto.db')\n",
    "# Carregar o DataFrame no banco de dados SQLite - criando tb_transacoes e tb_clientes\n",
    "df_transacoes.to_sql('tb_transacoes', conn, index=False, if_exists='replace')\n",
    "df_clientes.to_sql('tb_clientes', conn, index=False, if_exists='replace')"
   ],
   "metadata": {
    "colab": {
     "base_uri": "https://localhost:8080/"
    },
    "id": "WnmPtyP6YReh",
    "outputId": "7d1bb95d-1026-417a-d93e-033b91c69be8",
    "ExecuteTime": {
     "end_time": "2025-10-30T01:45:57.401020Z",
     "start_time": "2025-10-30T01:45:57.348527Z"
    }
   },
   "outputs": [
    {
     "data": {
      "text/plain": [
       "175"
      ]
     },
     "execution_count": 25,
     "metadata": {},
     "output_type": "execute_result"
    }
   ],
   "execution_count": 25
  },
  {
   "cell_type": "code",
   "source": [
    "# Função para executar consultas SQL e retornar o resultado como um DataFrame\n",
    "def run_query(query):\n",
    "    return pd.read_sql_query(query, conn)"
   ],
   "metadata": {
    "id": "pMOeIO95Yfm4",
    "ExecuteTime": {
     "end_time": "2025-10-30T01:45:57.412677Z",
     "start_time": "2025-10-30T01:45:57.407456Z"
    }
   },
   "outputs": [],
   "execution_count": 26
  },
  {
   "cell_type": "code",
   "source": [
    "query = \"\"\"\n",
    "SELECT\n",
    "*\n",
    "FROM tb_transacoes\n",
    "INNER JOIN tb_clientes\n",
    "ON tb_transacoes.id_client = tb_clientes.Id_client\n",
    "\n",
    "\"\"\"\n",
    "result_df = run_query(query)\n",
    "print(result_df)"
   ],
   "metadata": {
    "id": "lMSQyM6qaIEu",
    "ExecuteTime": {
     "end_time": "2025-10-30T01:45:57.437270Z",
     "start_time": "2025-10-30T01:45:57.425693Z"
    }
   },
   "outputs": [
    {
     "name": "stdout",
     "output_type": "stream",
     "text": [
      "     id_client     Category   Price   Card Type state_name First_name  \\\n",
      "0           37  Electronics   72,93  mastercard         ND     Cornie   \n",
      "1           38      Jewelry  121,89  mastercard         PA        Rab   \n",
      "2           39         Baby    64,3  mastercard         MA      Codie   \n",
      "3           40     Outdoors    9,48  mastercard         OR      Scott   \n",
      "4            5     Outdoors   61,95  mastercard         MN     Tanney   \n",
      "..         ...          ...     ...         ...        ...        ...   \n",
      "291        120         Baby   24,97  mastercard         NY      Dougy   \n",
      "292        121     Clothing  145,64  mastercard         OH     Bartel   \n",
      "293        122     Clothing   46,16  mastercard         KS      Inigo   \n",
      "294        123        Books   39,03  mastercard         VA       Ross   \n",
      "295        124       Health  142,63  mastercard         DC       Saul   \n",
      "\n",
      "          Gender                      Job_Title  Id_client  \n",
      "0    Genderqueer                         Editor         37  \n",
      "1           Male              Assistant Manager         38  \n",
      "2         Female              Financial Analyst         39  \n",
      "3         Female                 Civil Engineer         40  \n",
      "4         Female                   VP Marketing          5  \n",
      "..           ...                            ...        ...  \n",
      "291         Male    Computer Systems Analyst IV        120  \n",
      "292       Female                        Actuary        121  \n",
      "293       Female          Programmer Analyst II        122  \n",
      "294         Male  Analog Circuit Design manager        123  \n",
      "295       Female                   VP Marketing        124  \n",
      "\n",
      "[296 rows x 9 columns]\n"
     ]
    }
   ],
   "execution_count": 27
  },
  {
   "cell_type": "markdown",
   "source": "Justifique a escolha do JOIN: O join utilizado foi o INNER JOIN de modo a evitar valores vazios ao fazer o dashboard. ",
   "metadata": {
    "id": "PfsVPMwQZlNe"
   }
  },
  {
   "cell_type": "markdown",
   "source": [
    "Exportando o arquivo como CSV:"
   ],
   "metadata": {
    "id": "ca7R_MgCZ2eh"
   }
  },
  {
   "cell_type": "code",
   "source": "result_df.to_csv('dados_ecommerce_final.csv', index=False)",
   "metadata": {
    "id": "06eFgBSpZ4Xh",
    "ExecuteTime": {
     "end_time": "2025-10-30T01:45:57.451321Z",
     "start_time": "2025-10-30T01:45:57.444445Z"
    }
   },
   "outputs": [],
   "execution_count": 28
  },
  {
   "cell_type": "markdown",
   "source": [
    "**Dicas para o projeto:**\n",
    "- Se atente que, como o mesmo cliente realiza mais de 1 transação quando você for trazer alguma métrica relacionada a dados do cliente terá que utilizar o distinct para criar essas métricas no dashboard, se não acabará tendo os dados repetidos.\n",
    "\n",
    "- Análise sua tabela, entenda a dimensão dos dados, no excel, antes de enviar para o Powerbi ou Looker Studio.\n",
    "\n",
    "- Tente montar preveamente um roteiro de quais métricas e visualizações irá colocar no dashboard, isso tornará seu processo mais rápido.\n",
    "\n",
    "- Qualquer dificuldade para subir sua base para as ferramentas de visualização envie a base e o erro encontrado para que os tutores possam te ajudar."
   ],
   "metadata": {
    "id": "yWnbq4nraMNv"
   }
  }
 ]
}
