{
 "nbformat": 4,
 "nbformat_minor": 0,
 "metadata": {
  "colab": {
   "provenance": []
  },
  "kernelspec": {
   "name": "python3",
   "display_name": "Python 3 (ipykernel)",
   "language": "python"
  },
  "language_info": {
   "name": "python"
  }
 },
 "cells": [
  {
   "cell_type": "markdown",
   "source": [
    "# **MÓDULO 25 - Operações Básicas SQL**"
   ],
   "metadata": {
    "id": "4T5dCtwYXFS0"
   }
  },
  {
   "cell_type": "markdown",
   "source": [
    "Para nossa atividade inicial de SQL trabalharemos com uma base de vendas.\n",
    "Abaixo temos o ambiente de preparo para trabalharmos com o SQL lite."
   ],
   "metadata": {
    "id": "tGub_MhcXTfu"
   }
  },
  {
   "cell_type": "code",
   "metadata": {
    "id": "eQtWi0CfXCPn",
    "ExecuteTime": {
     "end_time": "2025-10-30T00:52:41.147851Z",
     "start_time": "2025-10-30T00:52:38.994951Z"
    }
   },
   "source": [
    "import sqlite3 #Importando a biblioteca necessária\n",
    "import pandas as pd"
   ],
   "outputs": [],
   "execution_count": 1
  },
  {
   "cell_type": "code",
   "source": "df_vendas = pd.read_csv(\"C:/Users/yurid/Downloads/TB_VENDAS_TAREFA (1).csv\", delimiter=';')",
   "metadata": {
    "id": "yKsW2EEpXQTK",
    "ExecuteTime": {
     "end_time": "2025-10-30T00:52:43.195705Z",
     "start_time": "2025-10-30T00:52:43.150914Z"
    }
   },
   "outputs": [],
   "execution_count": 2
  },
  {
   "cell_type": "code",
   "source": [
    "conn = sqlite3.connect(':memory:')\n",
    "df_vendas.to_sql('tb_vendas', conn, index=False, if_exists='replace')"
   ],
   "metadata": {
    "colab": {
     "base_uri": "https://localhost:8080/"
    },
    "id": "vbdvMKZgXtT5",
    "outputId": "aa99ea0f-70a5-40d2-c1c8-3230f04491b7",
    "ExecuteTime": {
     "end_time": "2025-10-30T00:52:46.042350Z",
     "start_time": "2025-10-30T00:52:46.009789Z"
    }
   },
   "outputs": [
    {
     "data": {
      "text/plain": [
       "24"
      ]
     },
     "execution_count": 3,
     "metadata": {},
     "output_type": "execute_result"
    }
   ],
   "execution_count": 3
  },
  {
   "cell_type": "code",
   "source": [
    "def run_query(query):\n",
    "    return pd.read_sql_query(query, conn)\n"
   ],
   "metadata": {
    "id": "Z3-elg3aXuiM",
    "ExecuteTime": {
     "end_time": "2025-10-30T00:53:32.915358Z",
     "start_time": "2025-10-30T00:53:32.887829Z"
    }
   },
   "outputs": [
    {
     "name": "stdout",
     "output_type": "stream",
     "text": [
      "    ID_COMPRA  ID_CLIENTE   PRODUTO VALOR_UNID  UNIDADES\n",
      "0        1247        9081  CAMISETA       34,5         2\n",
      "1        1248        9081     CALCA       89,9         1\n",
      "2        1250        9560  CAMISETA       34,5         1\n",
      "3        1249        9630   BERMUDA       79,5         2\n",
      "4        1251        9425  CAMISETA       34,5         3\n",
      "5        1252        9425   VESTIDO        102         1\n",
      "6        1253        9481     CALCA       89,9         2\n",
      "7        1254        9785      MEIA       25,9         1\n",
      "8        1255        9786     CALCA       89,9         2\n",
      "9        1256        9787   VESTIDO        102         1\n",
      "10       1257        9788     CALCA       89,9         2\n",
      "11       1258        9789  CAMISETA       34,5         3\n",
      "12       1259        9790  CAMISETA       34,5         1\n",
      "13       1260        9791   BERMUDA       79,5         2\n",
      "14       1261        9792  CAMISETA       34,5         2\n",
      "15       1262        9793     CALCA       89,9         2\n",
      "16       1263        9794     CALCA       89,9         1\n",
      "17       1264        9795   BERMUDA       79,5         2\n",
      "18       1265        9796  CAMISETA       34,5         4\n",
      "19       1266        9797  CAMISETA       34,5         1\n",
      "20       1267        9798   VESTIDO        102         2\n",
      "21       1268        9799      MEIA       25,9         3\n",
      "22       1269        9800  CAMISETA       34,5         2\n",
      "23       1270        9801     CALCA       89,9         1\n"
     ]
    }
   ],
   "execution_count": 6
  },
  {
   "cell_type": "markdown",
   "source": [
    "# 1) Faça uma consulta que retorne os nomes dos produtos distintos que temos na base de venda.\n"
   ],
   "metadata": {
    "id": "Z_EFXuNLXz7m"
   }
  },
  {
   "cell_type": "code",
   "source": [
    "query = \"\"\"\n",
    "SELECT DISTINCT\n",
    "PRODUTO\n",
    "FROM tb_vendas\n",
    "\"\"\"\n",
    "result_df = run_query(query)\n",
    "print(result_df)"
   ],
   "metadata": {
    "id": "RXZK6kTcZ4BR",
    "ExecuteTime": {
     "end_time": "2025-10-30T00:54:23.001688Z",
     "start_time": "2025-10-30T00:54:22.972578Z"
    }
   },
   "outputs": [
    {
     "name": "stdout",
     "output_type": "stream",
     "text": [
      "    PRODUTO\n",
      "0  CAMISETA\n",
      "1     CALCA\n",
      "2   BERMUDA\n",
      "3   VESTIDO\n",
      "4      MEIA\n"
     ]
    }
   ],
   "execution_count": 8
  },
  {
   "cell_type": "markdown",
   "source": [
    "# 2) Faça uma consulta que retorne a contagem dos clientes distintos que temos na nossa base, não esqueça de renomear sua coluna.\n",
    "\n",
    "Dica: Você pode usar o distinct dentro do count()"
   ],
   "metadata": {
    "id": "i0m1rdHk1kHc"
   }
  },
  {
   "cell_type": "code",
   "source": [
    "query = \"\"\"\n",
    "SELECT\n",
    "COUNT(DISTINCT ID_CLIENTE) AS CONTAGEM_CLIENTES\n",
    "FROM tb_vendas\n",
    "\"\"\"\n",
    "result_df = run_query(query)\n",
    "print(result_df)"
   ],
   "metadata": {
    "id": "uDGHdqIwZ72P",
    "ExecuteTime": {
     "end_time": "2025-10-30T00:56:33.383882Z",
     "start_time": "2025-10-30T00:56:33.367603Z"
    }
   },
   "outputs": [
    {
     "name": "stdout",
     "output_type": "stream",
     "text": [
      "   CONTAGEM_CLIENTES\n",
      "0                 22\n"
     ]
    }
   ],
   "execution_count": 10
  },
  {
   "cell_type": "markdown",
   "source": [
    "# 3) Faça uma consulta que retorne uma coluna com os produtos distintos e o valor_unid de cada produto. Porém apenas para produtos onde o valor_unid é maior ou igual a 50 reais."
   ],
   "metadata": {
    "id": "OvDezkJ516jd"
   }
  },
  {
   "cell_type": "code",
   "source": [
    "query = \"\"\"\n",
    "SELECT\n",
    "DISTINCT PRODUTO, CAST(VALOR_UNID AS FLOAT) AS VALOR_UNID\n",
    "FROM tb_vendas\n",
    "WHERE CAST(VALOR_UNID AS FLOAT) >= 50\n",
    "\"\"\"\n",
    "result_df = run_query(query)\n",
    "print(result_df)"
   ],
   "metadata": {
    "id": "_Feprb8JZ9Cg",
    "ExecuteTime": {
     "end_time": "2025-10-30T01:00:48.480479Z",
     "start_time": "2025-10-30T01:00:48.468673Z"
    }
   },
   "outputs": [
    {
     "name": "stdout",
     "output_type": "stream",
     "text": [
      "   PRODUTO  VALOR_UNID\n",
      "0    CALCA        89.0\n",
      "1  BERMUDA        79.0\n",
      "2  VESTIDO       102.0\n"
     ]
    }
   ],
   "execution_count": 20
  },
  {
   "cell_type": "markdown",
   "source": [
    "# [DESAFIO] 4) Faça uma consulta que retorne o ID das compras e o valor total gasto nessa compra (Valor_unidade X Unidades) das 5 compras com mais valor total gasto."
   ],
   "metadata": {
    "id": "jcxg6MuX2c61"
   }
  },
  {
   "cell_type": "code",
   "source": [
    "query = \"\"\"\n",
    "SELECT\n",
    "ID_COMPRA, CAST(VALOR_UNID*UNIDADES AS FLOAT) AS VALOR_TOTAL\n",
    "FROM tb_vendas\n",
    "ORDER BY VALOR_TOTAL DESC LIMIT 5\n",
    "\n",
    "\"\"\"\n",
    "result_df = run_query(query)\n",
    "print(result_df)"
   ],
   "metadata": {
    "id": "rtmlv-MyZ99R",
    "ExecuteTime": {
     "end_time": "2025-10-30T01:03:09.244862Z",
     "start_time": "2025-10-30T01:03:09.234605Z"
    }
   },
   "outputs": [
    {
     "name": "stdout",
     "output_type": "stream",
     "text": [
      "   ID_COMPRA  VALOR_TOTAL\n",
      "0       1267        204.0\n",
      "1       1253        178.0\n",
      "2       1255        178.0\n",
      "3       1257        178.0\n",
      "4       1262        178.0\n"
     ]
    }
   ],
   "execution_count": 22
  },
  {
   "cell_type": "markdown",
   "source": [
    "# 5) Faça uma consulta que retorne os produtos e a média do preço da unidade dos produtos, ordenando do maior para o menor."
   ],
   "metadata": {
    "id": "NJXkUmwH3EkG"
   }
  },
  {
   "cell_type": "code",
   "source": [
    "query = \"\"\"\n",
    "SELECT\n",
    "PRODUTO, AVG(CAST(VALOR_UNID AS FLOAT)) AS MEDIA_PROD\n",
    "FROM tb_vendas\n",
    "GROUP BY PRODUTO\n",
    "ORDER BY MEDIA_PROD DESC\n",
    "\n",
    "\"\"\"\n",
    "result_df = run_query(query)\n",
    "print(result_df)"
   ],
   "metadata": {
    "id": "el35t_f8Z_-j",
    "ExecuteTime": {
     "end_time": "2025-10-30T01:05:45.577814Z",
     "start_time": "2025-10-30T01:05:45.560511Z"
    }
   },
   "outputs": [
    {
     "name": "stdout",
     "output_type": "stream",
     "text": [
      "    PRODUTO  MEDIA_PROD\n",
      "0   VESTIDO       102.0\n",
      "1     CALCA        89.0\n",
      "2   BERMUDA        79.0\n",
      "3  CAMISETA        34.0\n",
      "4      MEIA        25.0\n"
     ]
    }
   ],
   "execution_count": 24
  },
  {
   "cell_type": "markdown",
   "source": [
    "# 6) Faça uma consulta que retorne o id dos 3 clientes da base de vendas que mais relalizaram compras e a quantidade de compras realizadas."
   ],
   "metadata": {
    "id": "KR1f3qbB3s8D"
   }
  },
  {
   "cell_type": "code",
   "source": [
    "query = \"\"\"\n",
    "SELECT\n",
    "ID_CLIENTE, COUNT(ID_COMPRA) AS CONTAGEM_COMPRAS\n",
    "FROM tb_vendas\n",
    "GROUP BY ID_CLIENTE\n",
    "ORDER BY CONTAGEM_COMPRAS DESC\n",
    "LIMIT 3\n",
    "\"\"\"\n",
    "result_df = run_query(query)\n",
    "print(result_df)"
   ],
   "metadata": {
    "id": "ZLZ8mkXjaA-f",
    "ExecuteTime": {
     "end_time": "2025-10-30T01:07:57.591851Z",
     "start_time": "2025-10-30T01:07:57.580192Z"
    }
   },
   "outputs": [
    {
     "name": "stdout",
     "output_type": "stream",
     "text": [
      "   ID_CLIENTE  CONTAGEM_COMPRAS\n",
      "0        9425                 2\n",
      "1        9081                 2\n",
      "2        9801                 1\n"
     ]
    }
   ],
   "execution_count": 26
  }
 ]
}
